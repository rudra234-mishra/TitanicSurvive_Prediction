{
 "cells": [
  {
   "cell_type": "code",
   "execution_count": 9,
   "id": "4d120366-ea32-42b8-ba73-51999f8f65da",
   "metadata": {},
   "outputs": [],
   "source": [
    "import numpy as np\n",
    "import pickle\n",
    "import warnings\n",
    "warnings.filterwarnings(\"ignore\")"
   ]
  },
  {
   "cell_type": "code",
   "execution_count": 11,
   "id": "273af6b9-227d-4ec5-9812-da98fe7dfa68",
   "metadata": {},
   "outputs": [],
   "source": [
    "pipe=pickle.load(open('titanic_prediction.pkl','rb'))"
   ]
  },
  {
   "cell_type": "code",
   "execution_count": 15,
   "id": "f03efc37-a57c-4171-a0f6-ee8b4fedc660",
   "metadata": {},
   "outputs": [],
   "source": [
    "new=np.array([[1,'female',38.0,1,0,71.2833,'C']],dtype='object').reshape(1,7)"
   ]
  },
  {
   "cell_type": "code",
   "execution_count": 19,
   "id": "040374f3-4b6c-459e-af19-4542a8e2c998",
   "metadata": {},
   "outputs": [],
   "source": [
    "result=pipe.predict(new)"
   ]
  },
  {
   "cell_type": "code",
   "execution_count": 21,
   "id": "834efa1d-c05b-429c-83bb-c62f107a48c5",
   "metadata": {},
   "outputs": [
    {
     "name": "stdout",
     "output_type": "stream",
     "text": [
      "Survive\n"
     ]
    }
   ],
   "source": [
    "if result==1:\n",
    "    print(\"Survive\")\n",
    "else:\n",
    "    print(\"Not Survive\")"
   ]
  }
 ],
 "metadata": {
  "kernelspec": {
   "display_name": "Python 3 (ipykernel)",
   "language": "python",
   "name": "python3"
  },
  "language_info": {
   "codemirror_mode": {
    "name": "ipython",
    "version": 3
   },
   "file_extension": ".py",
   "mimetype": "text/x-python",
   "name": "python",
   "nbconvert_exporter": "python",
   "pygments_lexer": "ipython3",
   "version": "3.12.4"
  }
 },
 "nbformat": 4,
 "nbformat_minor": 5
}
